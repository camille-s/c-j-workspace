{
 "cells": [
  {
   "cell_type": "markdown",
   "metadata": {},
   "source": [
    "---\n",
    "title: \"Age adjustment for opiods article\"\n",
    "output: md_document\n",
    "---"
   ]
  },
  {
   "cell_type": "code",
   "execution_count": null,
   "metadata": {},
   "outputs": [],
   "source": [
    "%%R\n",
    "library(tidyverse)"
   ]
  },
  {
   "cell_type": "markdown",
   "metadata": {},
   "source": [
    "Data comes from SEER data at National Cancer Institute in a fixed-width format. \n",
    "\n",
    "Read fixed-width with `read_fwf`.\n",
    "\n",
    "[Data dictionary](https://seer.cancer.gov/stdpopulations/stdpopdic.html): 2000 US standard million with 18 age groups == `200` in first column."
   ]
  },
  {
   "cell_type": "code",
   "execution_count": null,
   "metadata": {},
   "outputs": [],
   "source": [
    "%%R\n",
    "url <- \"https://seer.cancer.gov/stdpopulations/stdpop.18ages.txt\"\n",
    "\n",
    "# codes are in data dictionary\n",
    "# make age groups of 5 years each, with max of 85+\n",
    "lookup <- data_frame(\n",
    "  code = str_pad(1:18, side = \"left\", width = 3, pad = \"0\"),\n",
    "  age_min = seq(0, 85, by = 5),\n",
    "  age_max = c(seq(4, 84, by = 5), \"plus\")\n",
    ") %>%\n",
    "  mutate_at(vars(age_min, age_max), str_pad, side = \"left\", width = 2, pad = \"0\") %>%\n",
    "  unite(age_min, age_max, col = \"age_grp\", sep = \"_\")\n",
    "\n",
    "standards <- read_fwf(url, col_positions = fwf_widths(c(3, 3, 8), c(\"series\", \"age\", \"pop\"))) %>%\n",
    "  filter(series == \"200\") %>%\n",
    "  mutate(pop = as.numeric(pop)) %>%\n",
    "  inner_join(lookup, by = c(\"age\" = \"code\")) %>%\n",
    "  select(age_grp, pop_wt = pop)"
   ]
  },
  {
   "cell_type": "markdown",
   "metadata": {},
   "source": [
    "Population weights are in column `pop_wt`, ages are in groups of 5 years in `age_grp`:"
   ]
  },
  {
   "cell_type": "code",
   "execution_count": null,
   "metadata": {},
   "outputs": [],
   "source": [
    "%%R\n",
    "standards"
   ]
  },
  {
   "cell_type": "markdown",
   "metadata": {},
   "source": [
    "There's an R package called [`epitools`](https://cran.r-project.org/package=epitools) with helper functions for weighted rates."
   ]
  }
 ],
 "metadata": {},
 "nbformat": 4,
 "nbformat_minor": 2
}
